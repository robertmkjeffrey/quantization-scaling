{
 "cells": [
  {
   "cell_type": "markdown",
   "metadata": {},
   "source": [
    "# a Replication of \"The Quantization Model of Neural Scaling\"\n",
    "https://browse.arxiv.org/pdf/2303.13506.pdf"
   ]
  },
  {
   "cell_type": "code",
   "execution_count": null,
   "metadata": {},
   "outputs": [],
   "source": [
    "%load_ext autoreload\n",
    "%autoreload 2\n",
    "\n",
    "import torch\n",
    "import numpy as np\n",
    "from matplotlib import pyplot as plt\n",
    "\n",
    "from lib.generate_data import Sampler, DummyData, MultitaskSparseParity\n",
    "from lib.tracking import AnalyticsManager"
   ]
  },
  {
   "cell_type": "markdown",
   "metadata": {},
   "source": [
    "## Set up data"
   ]
  },
  {
   "cell_type": "code",
   "execution_count": null,
   "metadata": {},
   "outputs": [],
   "source": [
    "n_data_bits = 100\n",
    "# n_control_bits = 500\n",
    "n_control_bits = 5\n",
    "k = 3\n",
    "alpha = 0.4\n",
    "\n",
    "sampler: Sampler = MultitaskSparseParity(n_control_bits, n_data_bits, k=k, alpha=alpha)\n",
    "# sampler: Sampler = DummyData(n_control_bits + n_data_bits)"
   ]
  },
  {
   "cell_type": "code",
   "execution_count": null,
   "metadata": {},
   "outputs": [],
   "source": [
    "# sampler.generate_data(2)"
   ]
  },
  {
   "cell_type": "code",
   "execution_count": null,
   "metadata": {},
   "outputs": [],
   "source": [
    "\n",
    "%timeit sampler.generate_data(20000)"
   ]
  },
  {
   "cell_type": "markdown",
   "metadata": {},
   "source": [
    "## Train Network"
   ]
  },
  {
   "cell_type": "code",
   "execution_count": null,
   "metadata": {},
   "outputs": [],
   "source": [
    "batch_size = 20000\n",
    "training_size = 1e5\n",
    "test_size = 1000\n",
    "\n",
    "n_hidden = 200\n",
    "lr = 1e-3\n",
    "n_epochs = 500\n",
    "optimizer_func = lambda model: torch.optim.Adam(model.parameters(), lr=lr)\n",
    "loss_func = torch.nn.BCELoss()\n",
    "\n",
    "logger = AnalyticsManager()"
   ]
  },
  {
   "cell_type": "code",
   "execution_count": null,
   "metadata": {},
   "outputs": [],
   "source": [
    "class TinyModel(torch.nn.Module):\n",
    "    \"\"\"Single hidden layer model with relu activations.\"\"\"\n",
    "    def __init__(self, n_hidden: int):\n",
    "        super(TinyModel, self).__init__()\n",
    "\n",
    "        self.linear1 = torch.nn.Linear(n_control_bits + n_data_bits, n_hidden)\n",
    "        self.activation = torch.nn.ReLU()\n",
    "        self.linear2 = torch.nn.Linear(n_hidden, 1)\n",
    "        self.sigmoid = torch.nn.Sigmoid()\n",
    "\n",
    "    def forward(self, x):\n",
    "        x = self.linear1(x)\n",
    "        x = self.activation(x)\n",
    "        x = self.linear2(x)\n",
    "        x = self.sigmoid(x)\n",
    "        return x\n",
    "\n",
    "model = TinyModel(n_hidden)\n",
    "optimizer = optimizer_func(model)"
   ]
  },
  {
   "cell_type": "code",
   "execution_count": null,
   "metadata": {},
   "outputs": [],
   "source": [
    "# %matplotlib notebook\n",
    "# from time import sleep\n",
    "\n",
    "# fig = plt.figure()\n",
    "# ax1 = fig.add_subplot(211)\n",
    "# ax2 = fig.add_subplot(212, sharex=ax1)\n",
    "\n",
    "# for i in range(30):\n",
    "#     ax1.plot(range(i))\n",
    "#     plt.show()\n",
    "#     sleep(1)"
   ]
  },
  {
   "cell_type": "code",
   "execution_count": null,
   "metadata": {},
   "outputs": [],
   "source": [
    "def calculate_loss(X, y, model):\n",
    "    y_pred = model(X.float())\n",
    "    loss = loss_func(y_pred, y[:, None].float())\n",
    "    return loss\n"
   ]
  },
  {
   "cell_type": "code",
   "execution_count": null,
   "metadata": {},
   "outputs": [],
   "source": [
    "for epoch in range(n_epochs):\n",
    "    for i in range(int(training_size // batch_size)):\n",
    "        X_batch, y_batch = sampler.generate_data(batch_size)\n",
    "\n",
    "        # Calculate total loss\n",
    "        loss = calculate_loss(X_batch, y_batch, model)\n",
    "\n",
    "        loss.backward()\n",
    "        optimizer.step()\n",
    "        optimizer.zero_grad()\n",
    "\n",
    "\n",
    "        logger.log({\"loss\": loss.item()})\n",
    "\n",
    "        # Calculate loss for each individual task.\n",
    "        for task_index in range(n_control_bits):\n",
    "            X_task, y_task = sampler.generate_data(test_size, force_task=task_index)\n",
    "            with torch.no_grad():\n",
    "                task_loss = calculate_loss(X_task, y_task, model).item()\n",
    "                logger.log({f\"task_{task_index}_loss\" : task_loss})\n",
    "\n",
    "        \n",
    "    print(f\"Epoch: {epoch} loss: {loss.item()}\")"
   ]
  },
  {
   "cell_type": "code",
   "execution_count": null,
   "metadata": {},
   "outputs": [],
   "source": [
    "for key in logger.metrics.keys():\n",
    "    plt.plot(logger.metrics[key], label=key)\n",
    "plt.legend()\n",
    "# plt.yscale(\"log\")"
   ]
  }
 ],
 "metadata": {
  "kernelspec": {
   "display_name": "general",
   "language": "python",
   "name": "python3"
  },
  "language_info": {
   "codemirror_mode": {
    "name": "ipython",
    "version": 3
   },
   "file_extension": ".py",
   "mimetype": "text/x-python",
   "name": "python",
   "nbconvert_exporter": "python",
   "pygments_lexer": "ipython3",
   "version": "3.9.6"
  },
  "orig_nbformat": 4
 },
 "nbformat": 4,
 "nbformat_minor": 2
}
