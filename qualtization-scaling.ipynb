{
 "cells": [
  {
   "cell_type": "code",
   "execution_count": 14,
   "metadata": {},
   "outputs": [
    {
     "name": "stdout",
     "output_type": "stream",
     "text": [
      "The autoreload extension is already loaded. To reload it, use:\n",
      "  %reload_ext autoreload\n"
     ]
    }
   ],
   "source": [
    "%load_ext autoreload\n",
    "%autoreload 2\n",
    "\n",
    "import torch\n",
    "import numpy as np\n",
    "from matplotlib import pyplot as plt\n",
    "\n",
    "from lib.generate_data import Sampler, DummyData, MultitaskSparseParity\n",
    "from lib.tracking import AnalyticsManager"
   ]
  },
  {
   "cell_type": "markdown",
   "metadata": {},
   "source": [
    "## Set up data"
   ]
  },
  {
   "cell_type": "code",
   "execution_count": 15,
   "metadata": {},
   "outputs": [],
   "source": [
    "n_data_bits = 100\n",
    "# n_control_bits = 500\n",
    "n_control_bits = 5\n",
    "k = 3\n",
    "alpha = 0.4\n",
    "\n",
    "sampler: Sampler = MultitaskSparseParity(n_control_bits, n_data_bits, k=k, alpha=alpha)\n",
    "# sampler: Sampler = DummyData(n_control_bits + n_data_bits)"
   ]
  },
  {
   "cell_type": "code",
   "execution_count": 16,
   "metadata": {},
   "outputs": [
    {
     "name": "stderr",
     "output_type": "stream",
     "text": [
      "/home/rmkj/Documents/Research/quantization-neural-scaling/lib/generate_data.py:63: UserWarning: To copy construct from a tensor, it is recommended to use sourceTensor.clone().detach() or sourceTensor.clone().detach().requires_grad_(True), rather than torch.tensor(sourceTensor).\n",
      "  \n"
     ]
    },
    {
     "data": {
      "text/plain": [
       "(tensor([[1., 0., 0., 0., 0., 1., 1., 1., 1., 1., 0., 0., 0., 0., 1., 1., 0., 0.,\n",
       "          1., 0., 0., 1., 0., 0., 1., 0., 0., 0., 1., 0., 1., 0., 0., 0., 1., 1.,\n",
       "          1., 1., 1., 0., 0., 0., 1., 1., 1., 1., 0., 0., 0., 1., 1., 1., 1., 1.,\n",
       "          1., 0., 0., 1., 0., 0., 1., 1., 0., 1., 1., 1., 0., 1., 0., 0., 0., 0.,\n",
       "          1., 0., 0., 1., 0., 0., 0., 0., 0., 0., 1., 1., 0., 0., 0., 1., 0., 0.,\n",
       "          1., 1., 1., 0., 1., 1., 0., 0., 1., 1., 1., 0., 0., 1., 0.],\n",
       "         [0., 0., 1., 0., 0., 0., 1., 1., 1., 0., 1., 1., 1., 1., 0., 1., 1., 1.,\n",
       "          1., 1., 0., 0., 0., 0., 0., 0., 0., 0., 0., 0., 0., 0., 1., 0., 0., 0.,\n",
       "          0., 1., 0., 1., 0., 0., 1., 0., 0., 0., 1., 0., 1., 1., 1., 0., 0., 0.,\n",
       "          0., 1., 1., 0., 0., 1., 1., 1., 0., 0., 0., 1., 0., 0., 0., 1., 0., 1.,\n",
       "          1., 1., 1., 1., 0., 1., 1., 1., 0., 1., 0., 0., 0., 0., 1., 1., 0., 1.,\n",
       "          0., 0., 0., 0., 1., 1., 0., 1., 0., 1., 1., 0., 1., 0., 1.]],\n",
       "        dtype=torch.float64),\n",
       " tensor([0, 1]))"
      ]
     },
     "execution_count": 16,
     "metadata": {},
     "output_type": "execute_result"
    }
   ],
   "source": [
    "sampler.generate_data(2)"
   ]
  },
  {
   "cell_type": "code",
   "execution_count": 17,
   "metadata": {},
   "outputs": [
    {
     "name": "stdout",
     "output_type": "stream",
     "text": [
      "143 ms ± 53.1 ms per loop (mean ± std. dev. of 7 runs, 10 loops each)\n"
     ]
    }
   ],
   "source": [
    "\n",
    "%timeit sampler.generate_data(20000)"
   ]
  },
  {
   "cell_type": "markdown",
   "metadata": {},
   "source": [
    "## Train Network"
   ]
  },
  {
   "cell_type": "code",
   "execution_count": 18,
   "metadata": {},
   "outputs": [],
   "source": [
    "batch_size = 20000\n",
    "training_size = 1e5\n",
    "\n",
    "n_hidden = 200\n",
    "lr = 1e-3\n",
    "n_epochs = 100\n",
    "optimizer_func = lambda model: torch.optim.Adam(model.parameters(), lr=lr)\n",
    "loss_func = torch.nn.BCELoss()"
   ]
  },
  {
   "cell_type": "code",
   "execution_count": 19,
   "metadata": {},
   "outputs": [],
   "source": [
    "class TinyModel(torch.nn.Module):\n",
    "\n",
    "    def __init__(self, n_hidden: int):\n",
    "        super(TinyModel, self).__init__()\n",
    "\n",
    "        self.linear1 = torch.nn.Linear(n_control_bits + n_data_bits, n_hidden)\n",
    "        self.activation = torch.nn.ReLU()\n",
    "        self.linear2 = torch.nn.Linear(n_hidden, 1)\n",
    "        self.sigmoid = torch.nn.Sigmoid()\n",
    "\n",
    "    def forward(self, x):\n",
    "        x = self.linear1(x)\n",
    "        x = self.activation(x)\n",
    "        x = self.linear2(x)\n",
    "        x = self.sigmoid(x)\n",
    "        return x\n",
    "\n",
    "model = TinyModel(n_hidden)\n",
    "optimizer = optimizer_func(model)"
   ]
  },
  {
   "cell_type": "code",
   "execution_count": 20,
   "metadata": {},
   "outputs": [],
   "source": [
    "# %matplotlib notebook\n",
    "# from time import sleep\n",
    "\n",
    "# fig = plt.figure()\n",
    "# ax1 = fig.add_subplot(211)\n",
    "# ax2 = fig.add_subplot(212, sharex=ax1)\n",
    "\n",
    "# for i in range(30):\n",
    "#     ax1.plot(range(i))\n",
    "#     plt.show()\n",
    "#     sleep(1)"
   ]
  },
  {
   "cell_type": "code",
   "execution_count": 21,
   "metadata": {},
   "outputs": [],
   "source": [
    "def calculate_loss(X, y, model):\n",
    "    y_pred = model(X.float())\n",
    "    loss = loss_func(y_pred, y[:, None].float())\n",
    "    return loss\n"
   ]
  },
  {
   "cell_type": "code",
   "execution_count": 22,
   "metadata": {},
   "outputs": [
    {
     "name": "stdout",
     "output_type": "stream",
     "text": [
      "Epoch: 0 loss: 0.6952510476112366\n",
      "Epoch: 1 loss: 0.6940045356750488\n",
      "Epoch: 2 loss: 0.6932764649391174\n",
      "Epoch: 3 loss: 0.6932312846183777\n",
      "Epoch: 4 loss: 0.6935055255889893\n",
      "Epoch: 5 loss: 0.6934376358985901\n",
      "Epoch: 6 loss: 0.6935672163963318\n",
      "Epoch: 7 loss: 0.6932134628295898\n",
      "Epoch: 8 loss: 0.6932582259178162\n",
      "Epoch: 9 loss: 0.6934680342674255\n",
      "Epoch: 10 loss: 0.6934494376182556\n",
      "Epoch: 11 loss: 0.693199098110199\n",
      "Epoch: 12 loss: 0.693295419216156\n",
      "Epoch: 13 loss: 0.6932206153869629\n",
      "Epoch: 14 loss: 0.6933576464653015\n",
      "Epoch: 15 loss: 0.6933081150054932\n",
      "Epoch: 16 loss: 0.6933667063713074\n",
      "Epoch: 17 loss: 0.6932554244995117\n",
      "Epoch: 18 loss: 0.6930332183837891\n",
      "Epoch: 19 loss: 0.6931421160697937\n",
      "Epoch: 20 loss: 0.6931079030036926\n",
      "Epoch: 21 loss: 0.6929863095283508\n",
      "Epoch: 22 loss: 0.6928369998931885\n",
      "Epoch: 23 loss: 0.6927570104598999\n",
      "Epoch: 24 loss: 0.6928592920303345\n",
      "Epoch: 25 loss: 0.6922284960746765\n",
      "Epoch: 26 loss: 0.6920102834701538\n",
      "Epoch: 27 loss: 0.6913576126098633\n",
      "Epoch: 28 loss: 0.6907647252082825\n",
      "Epoch: 29 loss: 0.690010130405426\n",
      "Epoch: 30 loss: 0.6893047094345093\n",
      "Epoch: 31 loss: 0.6881676912307739\n",
      "Epoch: 32 loss: 0.6872727274894714\n",
      "Epoch: 33 loss: 0.6856381297111511\n",
      "Epoch: 34 loss: 0.6841992139816284\n",
      "Epoch: 35 loss: 0.6830714344978333\n",
      "Epoch: 36 loss: 0.6817360520362854\n",
      "Epoch: 37 loss: 0.6799977421760559\n",
      "Epoch: 38 loss: 0.6783727407455444\n",
      "Epoch: 39 loss: 0.6775435209274292\n",
      "Epoch: 40 loss: 0.6743800640106201\n",
      "Epoch: 41 loss: 0.6726521253585815\n",
      "Epoch: 42 loss: 0.6704413294792175\n",
      "Epoch: 43 loss: 0.6683492064476013\n",
      "Epoch: 44 loss: 0.6664994359016418\n",
      "Epoch: 45 loss: 0.6638712882995605\n",
      "Epoch: 46 loss: 0.6619613170623779\n",
      "Epoch: 47 loss: 0.659122884273529\n",
      "Epoch: 48 loss: 0.6560194492340088\n",
      "Epoch: 49 loss: 0.6530856490135193\n",
      "Epoch: 50 loss: 0.6493090987205505\n",
      "Epoch: 51 loss: 0.6451820135116577\n",
      "Epoch: 52 loss: 0.6423832774162292\n",
      "Epoch: 53 loss: 0.6371954083442688\n",
      "Epoch: 54 loss: 0.6335350871086121\n",
      "Epoch: 55 loss: 0.6289972066879272\n",
      "Epoch: 56 loss: 0.6222947835922241\n",
      "Epoch: 57 loss: 0.6192649602890015\n",
      "Epoch: 58 loss: 0.6144528388977051\n",
      "Epoch: 59 loss: 0.6092485785484314\n",
      "Epoch: 60 loss: 0.6028362512588501\n",
      "Epoch: 61 loss: 0.6000658869743347\n",
      "Epoch: 62 loss: 0.5916957259178162\n",
      "Epoch: 63 loss: 0.5870781540870667\n",
      "Epoch: 64 loss: 0.581524670124054\n",
      "Epoch: 65 loss: 0.576265811920166\n",
      "Epoch: 66 loss: 0.5710141658782959\n",
      "Epoch: 67 loss: 0.560279905796051\n",
      "Epoch: 68 loss: 0.5545840859413147\n",
      "Epoch: 69 loss: 0.5484077334403992\n",
      "Epoch: 70 loss: 0.5415845513343811\n",
      "Epoch: 71 loss: 0.5350590944290161\n",
      "Epoch: 72 loss: 0.5299797654151917\n",
      "Epoch: 73 loss: 0.5212230682373047\n",
      "Epoch: 74 loss: 0.5168076753616333\n",
      "Epoch: 75 loss: 0.5085349082946777\n",
      "Epoch: 76 loss: 0.50225830078125\n",
      "Epoch: 77 loss: 0.4937901496887207\n",
      "Epoch: 78 loss: 0.48811766505241394\n",
      "Epoch: 79 loss: 0.48417147994041443\n",
      "Epoch: 80 loss: 0.4768753945827484\n",
      "Epoch: 81 loss: 0.472810834646225\n",
      "Epoch: 82 loss: 0.4658384323120117\n",
      "Epoch: 83 loss: 0.45813891291618347\n",
      "Epoch: 84 loss: 0.4546729624271393\n",
      "Epoch: 85 loss: 0.4516979455947876\n",
      "Epoch: 86 loss: 0.4441400468349457\n",
      "Epoch: 87 loss: 0.43896484375\n",
      "Epoch: 88 loss: 0.4365040063858032\n",
      "Epoch: 89 loss: 0.4295382797718048\n",
      "Epoch: 90 loss: 0.4231413006782532\n",
      "Epoch: 91 loss: 0.41985535621643066\n",
      "Epoch: 92 loss: 0.4135313928127289\n",
      "Epoch: 93 loss: 0.40776097774505615\n",
      "Epoch: 94 loss: 0.4080735445022583\n",
      "Epoch: 95 loss: 0.4019480049610138\n",
      "Epoch: 96 loss: 0.3999570608139038\n",
      "Epoch: 97 loss: 0.39387547969818115\n",
      "Epoch: 98 loss: 0.3920385539531708\n",
      "Epoch: 99 loss: 0.38745447993278503\n"
     ]
    }
   ],
   "source": [
    "loss_history = []\n",
    "logger = AnalyticsManager()\n",
    "\n",
    "for epoch in range(n_epochs):\n",
    "    for i in range(int(training_size // batch_size)):\n",
    "        X_batch, y_batch = sampler.generate_data(batch_size)\n",
    "\n",
    "        loss = calculate_loss(X_batch, y_batch, model)\n",
    "\n",
    "        loss.backward()\n",
    "        optimizer.step()\n",
    "        optimizer.zero_grad()\n",
    "\n",
    "\n",
    "        logger.log({\"loss\": loss.item()})\n",
    "        \n",
    "    print(f\"Epoch: {epoch} loss: {loss.item()}\")"
   ]
  },
  {
   "cell_type": "code",
   "execution_count": 23,
   "metadata": {},
   "outputs": [
    {
     "data": {
      "text/plain": [
       "[<matplotlib.lines.Line2D at 0x7fd67cca5e20>]"
      ]
     },
     "execution_count": 23,
     "metadata": {},
     "output_type": "execute_result"
    },
    {
     "data": {
      "image/png": "[encoded data removed]",
      "text/plain": [
       "<Figure size 432x288 with 1 Axes>"
      ]
     },
     "metadata": {
      "needs_background": "light"
     },
     "output_type": "display_data"
    }
   ],
   "source": [
    "plt.plot(logger.metrics[\"loss\"])"
   ]
  }
 ],
 "metadata": {
  "kernelspec": {
   "display_name": "general",
   "language": "python",
   "name": "python3"
  },
  "language_info": {
   "codemirror_mode": {
    "name": "ipython",
    "version": 3
   },
   "file_extension": ".py",
   "mimetype": "text/x-python",
   "name": "python",
   "nbconvert_exporter": "python",
   "pygments_lexer": "ipython3",
   "version": "3.9.6"
  },
  "orig_nbformat": 4
 },
 "nbformat": 4,
 "nbformat_minor": 2
}
